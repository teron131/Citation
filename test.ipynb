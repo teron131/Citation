{
  "cells": [
    {
      "cell_type": "code",
      "execution_count": 1,
      "metadata": {},
      "outputs": [],
      "source": [
        "from langchain_community.retrievers import ArxivRetriever\n",
        "\n",
        "retriever = ArxivRetriever(top_k_results=3)"
      ]
    },
    {
      "cell_type": "code",
      "execution_count": 2,
      "metadata": {},
      "outputs": [
        {
          "name": "stdout",
          "output_type": "stream",
          "text": [
            "page_content='In the past, the rapidly evolving field of sound classification greatly\n",
            "benefited from the application of methods from other domains. Today, we observe\n",
            "the trend to fuse domain-specific tasks and approaches together, which provides\n",
            "the community with new outstanding models.\n",
            "  In this work, we present an extension of the CLIP model that handles audio in\n",
            "addition to text and images. Our proposed model incorporates the ESResNeXt\n",
            "audio-model into the CLIP framework using the AudioSet dataset. Such a\n",
            "combination enables the proposed model to perform bimodal and unimodal\n",
            "classification and querying, while keeping CLIP's ability to generalize to\n",
            "unseen datasets in a zero-shot inference fashion.\n",
            "  AudioCLIP achieves new state-of-the-art results in the Environmental Sound\n",
            "Classification (ESC) task, out-performing other approaches by reaching\n",
            "accuracies of 90.07% on the UrbanSound8K and 97.15% on the ESC-50 datasets.\n",
            "Further it sets new baselines in the zero-shot ESC-task on the same datasets\n",
            "(68.78% and 69.40%, respectively).\n",
            "  Finally, we also assess the cross-modal querying performance of the proposed\n",
            "model as well as the influence of full and partial training on the results. For\n",
            "the sake of reproducibility, our code is published.' metadata={'Entry ID': 'http://arxiv.org/abs/2106.13043v1', 'Published': datetime.date(2021, 6, 24), 'Title': 'AudioCLIP: Extending CLIP to Image, Text and Audio', 'Authors': 'Andrey Guzhov, Federico Raue, Jörn Hees, Andreas Dengel'}\n",
            "--------------------------------------------------\n",
            "page_content='An audio-visual event (AVE) is denoted by the correspondence of the visual\n",
            "and auditory signals in a video segment. Precise localization of the AVEs is\n",
            "very challenging since it demands effective multi-modal feature correspondence\n",
            "to ground the short and long range temporal interactions. Existing approaches\n",
            "struggle in capturing the different scales of multi-modal interaction due to\n",
            "ineffective multi-modal training strategies. To overcome this limitation, we\n",
            "introduce AVE-CLIP, a novel framework that integrates the AudioCLIP pre-trained\n",
            "on large-scale audio-visual data with a multi-window temporal transformer to\n",
            "effectively operate on different temporal scales of video frames. Our\n",
            "contributions are three-fold: (1) We introduce a multi-stage training framework\n",
            "to incorporate AudioCLIP pre-trained with audio-image pairs into the AVE\n",
            "localization task on video frames through contrastive fine-tuning, effective\n",
            "mean video feature extraction, and multi-scale training phases. (2) We propose\n",
            "a multi-domain attention mechanism that operates on both temporal and feature\n",
            "domains over varying timescales to fuse the local and global feature\n",
            "variations. (3) We introduce a temporal refining scheme with event-guided\n",
            "attention followed by a simple-yet-effective post processing step to handle\n",
            "significant variations of the background over diverse events. Our method\n",
            "achieves state-of-the-art performance on the publicly available AVE dataset\n",
            "with 5.9% mean accuracy improvement which proves its superiority over existing\n",
            "approaches.' metadata={'Entry ID': 'http://arxiv.org/abs/2210.05060v1', 'Published': datetime.date(2022, 10, 11), 'Title': 'AVE-CLIP: AudioCLIP-based Multi-window Temporal Transformer for Audio Visual Event Localization', 'Authors': 'Tanvir Mahmud, Diana Marculescu'}\n",
            "--------------------------------------------------\n",
            "page_content='Visual sound source localization poses a significant challenge in identifying\n",
            "the semantic region of each sounding source within a video. Existing\n",
            "self-supervised and weakly supervised source localization methods struggle to\n",
            "accurately distinguish the semantic regions of each sounding object,\n",
            "particularly in multi-source mixtures. These methods often rely on audio-visual\n",
            "correspondence as guidance, which can lead to substantial performance drops in\n",
            "complex multi-source localization scenarios. The lack of access to individual\n",
            "source sounds in multi-source mixtures during training exacerbates the\n",
            "difficulty of learning effective audio-visual correspondence for localization.\n",
            "To address this limitation, in this paper, we propose incorporating the text\n",
            "modality as an intermediate feature guide using tri-modal joint embedding\n",
            "models (e.g., AudioCLIP) to disentangle the semantic audio-visual source\n",
            "correspondence in multi-source mixtures. Our framework, dubbed T-VSL, begins by\n",
            "predicting the class of sounding entities in mixtures. Subsequently, the\n",
            "textual representation of each sounding source is employed as guidance to\n",
            "disentangle fine-grained audio-visual source correspondence from multi-source\n",
            "mixtures, leveraging the tri-modal AudioCLIP embedding. This approach enables\n",
            "our framework to handle a flexible number of sources and exhibits promising\n",
            "zero-shot transferability to unseen classes during test time. Extensive\n",
            "experiments conducted on the MUSIC, VGGSound, and VGGSound-Instruments datasets\n",
            "demonstrate significant performance improvements over state-of-the-art methods.\n",
            "Code is released at https://github.com/enyac-group/T-VSL/tree/main' metadata={'Entry ID': 'http://arxiv.org/abs/2404.01751v2', 'Published': datetime.date(2024, 7, 7), 'Title': 'T-VSL: Text-Guided Visual Sound Source Localization in Mixtures', 'Authors': 'Tanvir Mahmud, Yapeng Tian, Diana Marculescu'}\n",
            "--------------------------------------------------\n"
          ]
        }
      ],
      "source": [
        "query = \"AudioCLIP adds audio as an additional modality into a CLIP framework, enabling zero-shot audio classification.\"\n",
        "docs = retriever.invoke(query)\n",
        "for doc in docs:\n",
        "    print(doc)\n",
        "    print(\"-\" * 50)"
      ]
    },
    {
      "cell_type": "code",
      "execution_count": 3,
      "metadata": {},
      "outputs": [
        {
          "name": "stdout",
          "output_type": "stream",
          "text": [
            "0.711873196241966\n",
            "0.5347228688692579\n",
            "0.5064669280999857\n"
          ]
        }
      ],
      "source": [
        "from langchain_openai import OpenAIEmbeddings\n",
        "from sklearn.metrics.pairwise import cosine_similarity\n",
        "\n",
        "embeddings = OpenAIEmbeddings(model=\"text-embedding-3-large\")\n",
        "\n",
        "\n",
        "def calculate_similarity(page_content: str, query: str) -> float:\n",
        "    doc_embedding = embeddings.embed_query(page_content)\n",
        "    query_embedding = embeddings.embed_query(query)\n",
        "    similarity = cosine_similarity([doc_embedding], [query_embedding]).item()\n",
        "    return similarity\n",
        "\n",
        "\n",
        "for doc in docs:\n",
        "    print(calculate_similarity(doc.page_content, query))"
      ]
    },
    {
      "cell_type": "code",
      "execution_count": 11,
      "metadata": {},
      "outputs": [
        {
          "data": {
            "text/plain": [
              "False"
            ]
          },
          "execution_count": 11,
          "metadata": {},
          "output_type": "execute_result"
        }
      ],
      "source": [
        "import re\n",
        "\n",
        "\n",
        "def is_arxiv_identifier(query: str) -> bool:\n",
        "    pattern = r\"\\d{2}(0[1-9]|1[0-2])\\.\\d{4,5}(v\\d+|)|\\d{7}.*\"\n",
        "    for item in query[:300].split():\n",
        "        if not re.match(pattern, item) or re.match(pattern, item).group(0) != item:\n",
        "            return False\n",
        "    return True\n",
        "\n",
        "\n",
        "is_arxiv_identifier(query)"
      ]
    },
    {
      "cell_type": "code",
      "execution_count": 12,
      "metadata": {},
      "outputs": [
        {
          "name": "stdout",
          "output_type": "stream",
          "text": [
            "['http://arxiv.org/pdf/2106.13043v1', 'http://arxiv.org/pdf/2210.05060v1', 'http://arxiv.org/pdf/2404.01751v2']\n"
          ]
        }
      ],
      "source": [
        "links = [doc.metadata[\"Entry ID\"].replace(\"/abs/\", \"/pdf/\") for doc in docs]\n",
        "print(links)"
      ]
    },
    {
      "cell_type": "code",
      "execution_count": 13,
      "metadata": {},
      "outputs": [
        {
          "name": "stderr",
          "output_type": "stream",
          "text": [
            "Could not load the custom kernel for multi-scale deformable attention: /home/teron/.cache/torch_extensions/py312_cu124/MultiScaleDeformableAttention/MultiScaleDeformableAttention.so: cannot open shared object file: No such file or directory\n",
            "Could not load the custom kernel for multi-scale deformable attention: /home/teron/.cache/torch_extensions/py312_cu124/MultiScaleDeformableAttention/MultiScaleDeformableAttention.so: cannot open shared object file: No such file or directory\n",
            "Could not load the custom kernel for multi-scale deformable attention: /home/teron/.cache/torch_extensions/py312_cu124/MultiScaleDeformableAttention/MultiScaleDeformableAttention.so: cannot open shared object file: No such file or directory\n",
            "Could not load the custom kernel for multi-scale deformable attention: /home/teron/.cache/torch_extensions/py312_cu124/MultiScaleDeformableAttention/MultiScaleDeformableAttention.so: cannot open shared object file: No such file or directory\n",
            "Could not load the custom kernel for multi-scale deformable attention: /home/teron/.cache/torch_extensions/py312_cu124/MultiScaleDeformableAttention/MultiScaleDeformableAttention.so: cannot open shared object file: No such file or directory\n",
            "Could not load the custom kernel for multi-scale deformable attention: /home/teron/.cache/torch_extensions/py312_cu124/MultiScaleDeformableAttention/MultiScaleDeformableAttention.so: cannot open shared object file: No such file or directory\n",
            "Could not load the custom kernel for multi-scale deformable attention: /home/teron/.cache/torch_extensions/py312_cu124/MultiScaleDeformableAttention/MultiScaleDeformableAttention.so: cannot open shared object file: No such file or directory\n",
            "Could not load the custom kernel for multi-scale deformable attention: /home/teron/.cache/torch_extensions/py312_cu124/MultiScaleDeformableAttention/MultiScaleDeformableAttention.so: cannot open shared object file: No such file or directory\n",
            "Could not load the custom kernel for multi-scale deformable attention: /home/teron/.cache/torch_extensions/py312_cu124/MultiScaleDeformableAttention/MultiScaleDeformableAttention.so: cannot open shared object file: No such file or directory\n",
            "Could not load the custom kernel for multi-scale deformable attention: /home/teron/.cache/torch_extensions/py312_cu124/MultiScaleDeformableAttention/MultiScaleDeformableAttention.so: cannot open shared object file: No such file or directory\n",
            "Could not load the custom kernel for multi-scale deformable attention: /home/teron/.cache/torch_extensions/py312_cu124/MultiScaleDeformableAttention/MultiScaleDeformableAttention.so: cannot open shared object file: No such file or directory\n",
            "Could not load the custom kernel for multi-scale deformable attention: /home/teron/.cache/torch_extensions/py312_cu124/MultiScaleDeformableAttention/MultiScaleDeformableAttention.so: cannot open shared object file: No such file or directory\n",
            "Could not load the custom kernel for multi-scale deformable attention: /home/teron/.cache/torch_extensions/py312_cu124/MultiScaleDeformableAttention/MultiScaleDeformableAttention.so: cannot open shared object file: No such file or directory\n",
            "Could not load the custom kernel for multi-scale deformable attention: /home/teron/.cache/torch_extensions/py312_cu124/MultiScaleDeformableAttention/MultiScaleDeformableAttention.so: cannot open shared object file: No such file or directory\n",
            "Could not load the custom kernel for multi-scale deformable attention: /home/teron/.cache/torch_extensions/py312_cu124/MultiScaleDeformableAttention/MultiScaleDeformableAttention.so: cannot open shared object file: No such file or directory\n",
            "Could not load the custom kernel for multi-scale deformable attention: /home/teron/.cache/torch_extensions/py312_cu124/MultiScaleDeformableAttention/MultiScaleDeformableAttention.so: cannot open shared object file: No such file or directory\n",
            "Could not load the custom kernel for multi-scale deformable attention: /home/teron/.cache/torch_extensions/py312_cu124/MultiScaleDeformableAttention/MultiScaleDeformableAttention.so: cannot open shared object file: No such file or directory\n",
            "Could not load the custom kernel for multi-scale deformable attention: /home/teron/.cache/torch_extensions/py312_cu124/MultiScaleDeformableAttention/MultiScaleDeformableAttention.so: cannot open shared object file: No such file or directory\n"
          ]
        },
        {
          "name": "stdout",
          "output_type": "stream",
          "text": [
            "0.5819485057638034\n",
            "0.5515498948932065\n",
            "0.4616582145934405\n"
          ]
        }
      ],
      "source": [
        "from Tools import webloader\n",
        "\n",
        "content_list = []\n",
        "for link in links:\n",
        "    content = webloader(link)\n",
        "    content_list.append(content)\n",
        "\n",
        "\n",
        "for content in content_list:\n",
        "    print(calculate_similarity(content, query))"
      ]
    },
    {
      "cell_type": "code",
      "execution_count": null,
      "metadata": {},
      "outputs": [],
      "source": [
        "from Tools import webloader\n",
        "\n",
        "content = webloader(\"http://arxiv.org/pdf/2309.03905v2\")\n",
        "print(content)"
      ]
    }
  ],
  "metadata": {
    "kernelspec": {
      "display_name": "base",
      "language": "python",
      "name": "python3"
    },
    "language_info": {
      "codemirror_mode": {
        "name": "ipython",
        "version": 3
      },
      "file_extension": ".py",
      "mimetype": "text/x-python",
      "name": "python",
      "nbconvert_exporter": "python",
      "pygments_lexer": "ipython3",
      "version": "3.12.2"
    }
  },
  "nbformat": 4,
  "nbformat_minor": 2
}
